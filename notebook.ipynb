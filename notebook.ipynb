{
 "cells": [
  {
   "cell_type": "code",
   "execution_count": 1,
   "metadata": {
    "collapsed": true
   },
   "outputs": [],
   "source": [
    "# GridSearchCVの結果をヒートマップで表示する。\n",
    "def plot_heatmap_from_grid(grid):\n",
    "    # チューニング対象のパラメータを特定する。\n",
    "    params = [k for k in grid.cv_results_.keys() if k.startswith('param_')]\n",
    "    if len(params) != 2: raise Exception('grid has to have exact 2 parameters.') \n",
    "\n",
    "    # ヒートマップの行、列、値に使うキーを定義する。\n",
    "    index = params[0]\n",
    "    columns = params[1]\n",
    "    values = 'mean_test_score'\n",
    "\n",
    "    # gridから必要なキーのみを抽出する。\n",
    "    df_dict = {k: grid.cv_results_[k] for k in grid.cv_results_.keys() & {index, columns, values}}\n",
    "\n",
    "    # dictをDataFrameに変換してseabornでヒートマップを表示する。\n",
    "    import pandas as pd\n",
    "    df = pd.DataFrame(df_dict)\n",
    "    data = df.pivot(index=index, columns=columns, values=values)\n",
    "    import seaborn as sns\n",
    "    sns.heatmap(data, annot=True, fmt='.3f')"
   ]
  },
  {
   "cell_type": "code",
   "execution_count": 2,
   "metadata": {},
   "outputs": [
    {
     "data": {
      "image/png": "[encoded data removed]",
      "text/plain": [
       "<matplotlib.figure.Figure at 0x28fa022c5f8>"
      ]
     },
     "metadata": {},
     "output_type": "display_data"
    }
   ],
   "source": [
    "%matplotlib inline\n",
    "\n",
    "# ヒートマップの表示例\n",
    "# diabetesデータに対して、多項式特徴量（PolynomialFeatures）を追加して線形モデル（Lasso）で回帰を行う。\n",
    "# GridSearchCVを使って、多項式特徴量の次数（degree）と線形モデルの正則化パラメータ（alpha）をチューニングする。\n",
    "from sklearn.datasets import load_diabetes\n",
    "diabetes = load_diabetes()\n",
    "from sklearn.model_selection import train_test_split\n",
    "X_train, X_test, y_train, y_test = train_test_split(diabetes.data, diabetes.target, random_state=0)\n",
    "from sklearn.pipeline import make_pipeline\n",
    "from sklearn.preprocessing import PolynomialFeatures\n",
    "from sklearn.linear_model import Lasso\n",
    "pipe = make_pipeline(PolynomialFeatures(), Lasso())\n",
    "param_grid = {'polynomialfeatures__degree': [1, 2, 3], 'lasso__alpha': [0.001, 0.01, 0.1]}\n",
    "from sklearn.model_selection import GridSearchCV\n",
    "grid = GridSearchCV(pipe, param_grid=param_grid, cv=5, n_jobs=-1)\n",
    "grid.fit(X_train, y_train)\n",
    "\n",
    "plot_heatmap_from_grid(grid)"
   ]
  },
  {
   "cell_type": "code",
   "execution_count": null,
   "metadata": {
    "collapsed": true
   },
   "outputs": [],
   "source": []
  }
 ],
 "metadata": {
  "kernelspec": {
   "display_name": "Python 3",
   "language": "python",
   "name": "python3"
  },
  "language_info": {
   "codemirror_mode": {
    "name": "ipython",
    "version": 3
   },
   "file_extension": ".py",
   "mimetype": "text/x-python",
   "name": "python",
   "nbconvert_exporter": "python",
   "pygments_lexer": "ipython3",
   "version": "3.6.3"
  }
 },
 "nbformat": 4,
 "nbformat_minor": 2
}
